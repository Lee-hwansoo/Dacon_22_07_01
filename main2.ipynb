{
 "cells": [
  {
   "cell_type": "code",
   "execution_count": null,
   "id": "c3f0d11a",
   "metadata": {},
   "outputs": [],
   "source": [
    "import pandas as pd\n",
    "train_df = pd.read_csv('./data/train.csv')\n",
    "val_df = pd.read_csv('./data/val.csv')\n",
    "test_df = pd.read_csv('./data/test.csv')\n",
    "# val_df 의 오염도 계산\n",
    "# Class=0 정상거래, Class=1 부정거래\n",
    "val_normal, val_fraud = val_df['Class'].value_counts()\n",
    "val_contamination = val_fraud / val_normal\n",
    "print(f'Validation contamination : [{val_contamination}]')"
   ]
  },
  {
   "cell_type": "code",
   "execution_count": null,
   "id": "5da4275b",
   "metadata": {},
   "outputs": [],
   "source": [
    "from pycaret.anomaly import *\n",
    "s = setup(data = train_df.drop(columns=['ID']),remove_multicollinearity = True,multicollinearity_threshold = 0.90, normalize = True,silent= True)"
   ]
  },
  {
   "cell_type": "code",
   "execution_count": null,
   "id": "c4aa38a6",
   "metadata": {},
   "outputs": [],
   "source": [
    "iforest = create_model('iforest', fraction = val_contamination)\n",
    "print(iforest)"
   ]
  },
  {
   "cell_type": "code",
   "execution_count": null,
   "id": "36d17a18",
   "metadata": {},
   "outputs": [],
   "source": [
    "models()"
   ]
  },
  {
   "cell_type": "code",
   "execution_count": null,
   "id": "1faf0ea0",
   "metadata": {},
   "outputs": [],
   "source": [
    "plot_model(iforest, plot = 'umap')"
   ]
  },
  {
   "cell_type": "code",
   "execution_count": null,
   "id": "635cd07b",
   "metadata": {},
   "outputs": [],
   "source": [
    "result = assign_model(iforest)\n",
    "result.head()"
   ]
  },
  {
   "cell_type": "code",
   "execution_count": null,
   "id": "05e101f6",
   "metadata": {},
   "outputs": [],
   "source": [
    "save_model(model = iforest, model_name = 'iforest_model')"
   ]
  },
  {
   "cell_type": "code",
   "execution_count": null,
   "id": "1091f7e6",
   "metadata": {},
   "outputs": [],
   "source": [
    "loaded_model = load_model('iforest_model')"
   ]
  },
  {
   "cell_type": "markdown",
   "id": "fbad31b4",
   "metadata": {},
   "source": [
    "## Evaluation : Validation set\n"
   ]
  },
  {
   "cell_type": "code",
   "execution_count": null,
   "id": "fa7f3b3b",
   "metadata": {},
   "outputs": [],
   "source": [
    "from sklearn.metrics import f1_score\n",
    "from sklearn.metrics import classification_report\n",
    "\n",
    "val_x = val_df.drop(columns=['ID', 'Class']) # Input Data\n",
    "val_y = val_df['Class'] # Label\n",
    "\n",
    "val_pred = loaded_model.predict(val_x) # model prediction\n",
    "val_score = f1_score(val_y, val_pred, average='macro')\n",
    "print(f'Validation F1 Score : [{val_score}]')\n",
    "print(classification_report(val_y, val_pred))"
   ]
  },
  {
   "cell_type": "code",
   "execution_count": null,
   "id": "d64bb8c5",
   "metadata": {},
   "outputs": [],
   "source": [
    "temp_df = pd.DataFrame(val_pred)\n",
    "temp_df"
   ]
  },
  {
   "cell_type": "markdown",
   "id": "c098f610",
   "metadata": {},
   "source": [
    "## Inference : Test set"
   ]
  },
  {
   "cell_type": "code",
   "execution_count": null,
   "id": "8929f07a",
   "metadata": {},
   "outputs": [],
   "source": [
    "test_x = test_df.drop(columns=['ID'])"
   ]
  },
  {
   "cell_type": "code",
   "execution_count": null,
   "id": "9522067a",
   "metadata": {},
   "outputs": [],
   "source": [
    "test_pred = loaded_model.predict(test_x) # model prediction"
   ]
  },
  {
   "cell_type": "markdown",
   "id": "6c024187",
   "metadata": {},
   "source": [
    "## Submission"
   ]
  },
  {
   "cell_type": "code",
   "execution_count": null,
   "id": "5cf646e3",
   "metadata": {},
   "outputs": [],
   "source": [
    "submit = pd.read_csv('./sample_submission.csv')\n",
    "submit.head()"
   ]
  },
  {
   "cell_type": "code",
   "execution_count": null,
   "id": "71728ea8",
   "metadata": {},
   "outputs": [],
   "source": [
    "submit['Class'] = test_pred\n",
    "submit.to_csv('./submithwansoo2.csv', index=False)"
   ]
  }
 ],
 "metadata": {
  "kernelspec": {
   "display_name": "Python 3.8.13 ('pybook')",
   "language": "python",
   "name": "python3"
  },
  "language_info": {
   "codemirror_mode": {
    "name": "ipython",
    "version": 3
   },
   "file_extension": ".py",
   "mimetype": "text/x-python",
   "name": "python",
   "nbconvert_exporter": "python",
   "pygments_lexer": "ipython3",
   "version": "3.8.13"
  },
  "vscode": {
   "interpreter": {
    "hash": "7fe5dda4125e8f2ff462a0fbde8d2660865852eb609bf179b9ef7e98ede3b267"
   }
  }
 },
 "nbformat": 4,
 "nbformat_minor": 5
}
