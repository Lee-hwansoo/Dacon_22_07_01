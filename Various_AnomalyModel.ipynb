{
 "cells": [
  {
   "cell_type": "markdown",
   "metadata": {},
   "source": [
    "## Loading data"
   ]
  },
  {
   "cell_type": "code",
   "execution_count": 6,
   "metadata": {},
   "outputs": [
    {
     "name": "stdout",
     "output_type": "stream",
     "text": [
      "Validation contamination : [0.0010551491277433877]\n"
     ]
    }
   ],
   "source": [
    "import pandas as pd\n",
    "train_df = pd.read_csv('./data/train.csv')\n",
    "val_df = pd.read_csv('./data/val.csv')\n",
    "test_df = pd.read_csv('./data/test.csv')\n",
    "# val_df 의 오염도 계산\n",
    "# Class=0 정상거래, Class=1 부정거래\n",
    "val_normal, val_fraud = val_df['Class'].value_counts()\n",
    "val_contamination = val_fraud / val_normal\n",
    "print(f'Validation contamination : [{val_contamination}]')"
   ]
  },
  {
   "cell_type": "markdown",
   "metadata": {},
   "source": [
    "### Compare_models()"
   ]
  },
  {
   "cell_type": "code",
   "execution_count": 7,
   "metadata": {},
   "outputs": [],
   "source": [
    "#from pycaret.classification import *\n",
    "#c = setup(data = val_df, ignore_features = ['ID'], target = 'Class', session_id = 123, use_gpu = True, normalize = True, normalize_method = 'robust', silent= True)\n",
    "#best_3 = compare_models(sort='F1',n_select=3)"
   ]
  },
  {
   "cell_type": "code",
   "execution_count": 8,
   "metadata": {},
   "outputs": [],
   "source": [
    "#best_3"
   ]
  },
  {
   "cell_type": "markdown",
   "metadata": {},
   "source": [
    "## Prepairing the step"
   ]
  },
  {
   "cell_type": "code",
   "execution_count": 9,
   "metadata": {},
   "outputs": [
    {
     "data": {
      "text/html": [
       "<style type=\"text/css\">\n",
       "#T_92e43_row10_col1, #T_92e43_row21_col1, #T_92e43_row36_col1 {\n",
       "  background-color: lightgreen;\n",
       "}\n",
       "</style>\n",
       "<table id=\"T_92e43\">\n",
       "  <thead>\n",
       "    <tr>\n",
       "      <th class=\"blank level0\" >&nbsp;</th>\n",
       "      <th id=\"T_92e43_level0_col0\" class=\"col_heading level0 col0\" >Description</th>\n",
       "      <th id=\"T_92e43_level0_col1\" class=\"col_heading level0 col1\" >Value</th>\n",
       "    </tr>\n",
       "  </thead>\n",
       "  <tbody>\n",
       "    <tr>\n",
       "      <th id=\"T_92e43_level0_row0\" class=\"row_heading level0 row0\" >0</th>\n",
       "      <td id=\"T_92e43_row0_col0\" class=\"data row0 col0\" >session_id</td>\n",
       "      <td id=\"T_92e43_row0_col1\" class=\"data row0 col1\" >123</td>\n",
       "    </tr>\n",
       "    <tr>\n",
       "      <th id=\"T_92e43_level0_row1\" class=\"row_heading level0 row1\" >1</th>\n",
       "      <td id=\"T_92e43_row1_col0\" class=\"data row1 col0\" >Original Data</td>\n",
       "      <td id=\"T_92e43_row1_col1\" class=\"data row1 col1\" >(113842, 31)</td>\n",
       "    </tr>\n",
       "    <tr>\n",
       "      <th id=\"T_92e43_level0_row2\" class=\"row_heading level0 row2\" >2</th>\n",
       "      <td id=\"T_92e43_row2_col0\" class=\"data row2 col0\" >Missing Values</td>\n",
       "      <td id=\"T_92e43_row2_col1\" class=\"data row2 col1\" >False</td>\n",
       "    </tr>\n",
       "    <tr>\n",
       "      <th id=\"T_92e43_level0_row3\" class=\"row_heading level0 row3\" >3</th>\n",
       "      <td id=\"T_92e43_row3_col0\" class=\"data row3 col0\" >Numeric Features</td>\n",
       "      <td id=\"T_92e43_row3_col1\" class=\"data row3 col1\" >30</td>\n",
       "    </tr>\n",
       "    <tr>\n",
       "      <th id=\"T_92e43_level0_row4\" class=\"row_heading level0 row4\" >4</th>\n",
       "      <td id=\"T_92e43_row4_col0\" class=\"data row4 col0\" >Categorical Features</td>\n",
       "      <td id=\"T_92e43_row4_col1\" class=\"data row4 col1\" >0</td>\n",
       "    </tr>\n",
       "    <tr>\n",
       "      <th id=\"T_92e43_level0_row5\" class=\"row_heading level0 row5\" >5</th>\n",
       "      <td id=\"T_92e43_row5_col0\" class=\"data row5 col0\" >Ordinal Features</td>\n",
       "      <td id=\"T_92e43_row5_col1\" class=\"data row5 col1\" >False</td>\n",
       "    </tr>\n",
       "    <tr>\n",
       "      <th id=\"T_92e43_level0_row6\" class=\"row_heading level0 row6\" >6</th>\n",
       "      <td id=\"T_92e43_row6_col0\" class=\"data row6 col0\" >High Cardinality Features</td>\n",
       "      <td id=\"T_92e43_row6_col1\" class=\"data row6 col1\" >False</td>\n",
       "    </tr>\n",
       "    <tr>\n",
       "      <th id=\"T_92e43_level0_row7\" class=\"row_heading level0 row7\" >7</th>\n",
       "      <td id=\"T_92e43_row7_col0\" class=\"data row7 col0\" >High Cardinality Method</td>\n",
       "      <td id=\"T_92e43_row7_col1\" class=\"data row7 col1\" >None</td>\n",
       "    </tr>\n",
       "    <tr>\n",
       "      <th id=\"T_92e43_level0_row8\" class=\"row_heading level0 row8\" >8</th>\n",
       "      <td id=\"T_92e43_row8_col0\" class=\"data row8 col0\" >Transformed Data</td>\n",
       "      <td id=\"T_92e43_row8_col1\" class=\"data row8 col1\" >(113842, 30)</td>\n",
       "    </tr>\n",
       "    <tr>\n",
       "      <th id=\"T_92e43_level0_row9\" class=\"row_heading level0 row9\" >9</th>\n",
       "      <td id=\"T_92e43_row9_col0\" class=\"data row9 col0\" >CPU Jobs</td>\n",
       "      <td id=\"T_92e43_row9_col1\" class=\"data row9 col1\" >-1</td>\n",
       "    </tr>\n",
       "    <tr>\n",
       "      <th id=\"T_92e43_level0_row10\" class=\"row_heading level0 row10\" >10</th>\n",
       "      <td id=\"T_92e43_row10_col0\" class=\"data row10 col0\" >Use GPU</td>\n",
       "      <td id=\"T_92e43_row10_col1\" class=\"data row10 col1\" >True</td>\n",
       "    </tr>\n",
       "    <tr>\n",
       "      <th id=\"T_92e43_level0_row11\" class=\"row_heading level0 row11\" >11</th>\n",
       "      <td id=\"T_92e43_row11_col0\" class=\"data row11 col0\" >Log Experiment</td>\n",
       "      <td id=\"T_92e43_row11_col1\" class=\"data row11 col1\" >False</td>\n",
       "    </tr>\n",
       "    <tr>\n",
       "      <th id=\"T_92e43_level0_row12\" class=\"row_heading level0 row12\" >12</th>\n",
       "      <td id=\"T_92e43_row12_col0\" class=\"data row12 col0\" >Experiment Name</td>\n",
       "      <td id=\"T_92e43_row12_col1\" class=\"data row12 col1\" >anomaly-default-name</td>\n",
       "    </tr>\n",
       "    <tr>\n",
       "      <th id=\"T_92e43_level0_row13\" class=\"row_heading level0 row13\" >13</th>\n",
       "      <td id=\"T_92e43_row13_col0\" class=\"data row13 col0\" >USI</td>\n",
       "      <td id=\"T_92e43_row13_col1\" class=\"data row13 col1\" >4fca</td>\n",
       "    </tr>\n",
       "    <tr>\n",
       "      <th id=\"T_92e43_level0_row14\" class=\"row_heading level0 row14\" >14</th>\n",
       "      <td id=\"T_92e43_row14_col0\" class=\"data row14 col0\" >Imputation Type</td>\n",
       "      <td id=\"T_92e43_row14_col1\" class=\"data row14 col1\" >simple</td>\n",
       "    </tr>\n",
       "    <tr>\n",
       "      <th id=\"T_92e43_level0_row15\" class=\"row_heading level0 row15\" >15</th>\n",
       "      <td id=\"T_92e43_row15_col0\" class=\"data row15 col0\" >Iterative Imputation Iteration</td>\n",
       "      <td id=\"T_92e43_row15_col1\" class=\"data row15 col1\" >None</td>\n",
       "    </tr>\n",
       "    <tr>\n",
       "      <th id=\"T_92e43_level0_row16\" class=\"row_heading level0 row16\" >16</th>\n",
       "      <td id=\"T_92e43_row16_col0\" class=\"data row16 col0\" >Numeric Imputer</td>\n",
       "      <td id=\"T_92e43_row16_col1\" class=\"data row16 col1\" >mean</td>\n",
       "    </tr>\n",
       "    <tr>\n",
       "      <th id=\"T_92e43_level0_row17\" class=\"row_heading level0 row17\" >17</th>\n",
       "      <td id=\"T_92e43_row17_col0\" class=\"data row17 col0\" >Iterative Imputation Numeric Model</td>\n",
       "      <td id=\"T_92e43_row17_col1\" class=\"data row17 col1\" >None</td>\n",
       "    </tr>\n",
       "    <tr>\n",
       "      <th id=\"T_92e43_level0_row18\" class=\"row_heading level0 row18\" >18</th>\n",
       "      <td id=\"T_92e43_row18_col0\" class=\"data row18 col0\" >Categorical Imputer</td>\n",
       "      <td id=\"T_92e43_row18_col1\" class=\"data row18 col1\" >mode</td>\n",
       "    </tr>\n",
       "    <tr>\n",
       "      <th id=\"T_92e43_level0_row19\" class=\"row_heading level0 row19\" >19</th>\n",
       "      <td id=\"T_92e43_row19_col0\" class=\"data row19 col0\" >Iterative Imputation Categorical Model</td>\n",
       "      <td id=\"T_92e43_row19_col1\" class=\"data row19 col1\" >None</td>\n",
       "    </tr>\n",
       "    <tr>\n",
       "      <th id=\"T_92e43_level0_row20\" class=\"row_heading level0 row20\" >20</th>\n",
       "      <td id=\"T_92e43_row20_col0\" class=\"data row20 col0\" >Unknown Categoricals Handling</td>\n",
       "      <td id=\"T_92e43_row20_col1\" class=\"data row20 col1\" >least_frequent</td>\n",
       "    </tr>\n",
       "    <tr>\n",
       "      <th id=\"T_92e43_level0_row21\" class=\"row_heading level0 row21\" >21</th>\n",
       "      <td id=\"T_92e43_row21_col0\" class=\"data row21 col0\" >Normalize</td>\n",
       "      <td id=\"T_92e43_row21_col1\" class=\"data row21 col1\" >True</td>\n",
       "    </tr>\n",
       "    <tr>\n",
       "      <th id=\"T_92e43_level0_row22\" class=\"row_heading level0 row22\" >22</th>\n",
       "      <td id=\"T_92e43_row22_col0\" class=\"data row22 col0\" >Normalize Method</td>\n",
       "      <td id=\"T_92e43_row22_col1\" class=\"data row22 col1\" >robust</td>\n",
       "    </tr>\n",
       "    <tr>\n",
       "      <th id=\"T_92e43_level0_row23\" class=\"row_heading level0 row23\" >23</th>\n",
       "      <td id=\"T_92e43_row23_col0\" class=\"data row23 col0\" >Transformation</td>\n",
       "      <td id=\"T_92e43_row23_col1\" class=\"data row23 col1\" >False</td>\n",
       "    </tr>\n",
       "    <tr>\n",
       "      <th id=\"T_92e43_level0_row24\" class=\"row_heading level0 row24\" >24</th>\n",
       "      <td id=\"T_92e43_row24_col0\" class=\"data row24 col0\" >Transformation Method</td>\n",
       "      <td id=\"T_92e43_row24_col1\" class=\"data row24 col1\" >None</td>\n",
       "    </tr>\n",
       "    <tr>\n",
       "      <th id=\"T_92e43_level0_row25\" class=\"row_heading level0 row25\" >25</th>\n",
       "      <td id=\"T_92e43_row25_col0\" class=\"data row25 col0\" >PCA</td>\n",
       "      <td id=\"T_92e43_row25_col1\" class=\"data row25 col1\" >False</td>\n",
       "    </tr>\n",
       "    <tr>\n",
       "      <th id=\"T_92e43_level0_row26\" class=\"row_heading level0 row26\" >26</th>\n",
       "      <td id=\"T_92e43_row26_col0\" class=\"data row26 col0\" >PCA Method</td>\n",
       "      <td id=\"T_92e43_row26_col1\" class=\"data row26 col1\" >None</td>\n",
       "    </tr>\n",
       "    <tr>\n",
       "      <th id=\"T_92e43_level0_row27\" class=\"row_heading level0 row27\" >27</th>\n",
       "      <td id=\"T_92e43_row27_col0\" class=\"data row27 col0\" >PCA Components</td>\n",
       "      <td id=\"T_92e43_row27_col1\" class=\"data row27 col1\" >None</td>\n",
       "    </tr>\n",
       "    <tr>\n",
       "      <th id=\"T_92e43_level0_row28\" class=\"row_heading level0 row28\" >28</th>\n",
       "      <td id=\"T_92e43_row28_col0\" class=\"data row28 col0\" >Ignore Low Variance</td>\n",
       "      <td id=\"T_92e43_row28_col1\" class=\"data row28 col1\" >False</td>\n",
       "    </tr>\n",
       "    <tr>\n",
       "      <th id=\"T_92e43_level0_row29\" class=\"row_heading level0 row29\" >29</th>\n",
       "      <td id=\"T_92e43_row29_col0\" class=\"data row29 col0\" >Combine Rare Levels</td>\n",
       "      <td id=\"T_92e43_row29_col1\" class=\"data row29 col1\" >False</td>\n",
       "    </tr>\n",
       "    <tr>\n",
       "      <th id=\"T_92e43_level0_row30\" class=\"row_heading level0 row30\" >30</th>\n",
       "      <td id=\"T_92e43_row30_col0\" class=\"data row30 col0\" >Rare Level Threshold</td>\n",
       "      <td id=\"T_92e43_row30_col1\" class=\"data row30 col1\" >None</td>\n",
       "    </tr>\n",
       "    <tr>\n",
       "      <th id=\"T_92e43_level0_row31\" class=\"row_heading level0 row31\" >31</th>\n",
       "      <td id=\"T_92e43_row31_col0\" class=\"data row31 col0\" >Numeric Binning</td>\n",
       "      <td id=\"T_92e43_row31_col1\" class=\"data row31 col1\" >False</td>\n",
       "    </tr>\n",
       "    <tr>\n",
       "      <th id=\"T_92e43_level0_row32\" class=\"row_heading level0 row32\" >32</th>\n",
       "      <td id=\"T_92e43_row32_col0\" class=\"data row32 col0\" >Remove Outliers</td>\n",
       "      <td id=\"T_92e43_row32_col1\" class=\"data row32 col1\" >False</td>\n",
       "    </tr>\n",
       "    <tr>\n",
       "      <th id=\"T_92e43_level0_row33\" class=\"row_heading level0 row33\" >33</th>\n",
       "      <td id=\"T_92e43_row33_col0\" class=\"data row33 col0\" >Outliers Threshold</td>\n",
       "      <td id=\"T_92e43_row33_col1\" class=\"data row33 col1\" >None</td>\n",
       "    </tr>\n",
       "    <tr>\n",
       "      <th id=\"T_92e43_level0_row34\" class=\"row_heading level0 row34\" >34</th>\n",
       "      <td id=\"T_92e43_row34_col0\" class=\"data row34 col0\" >Remove Multicollinearity</td>\n",
       "      <td id=\"T_92e43_row34_col1\" class=\"data row34 col1\" >False</td>\n",
       "    </tr>\n",
       "    <tr>\n",
       "      <th id=\"T_92e43_level0_row35\" class=\"row_heading level0 row35\" >35</th>\n",
       "      <td id=\"T_92e43_row35_col0\" class=\"data row35 col0\" >Multicollinearity Threshold</td>\n",
       "      <td id=\"T_92e43_row35_col1\" class=\"data row35 col1\" >None</td>\n",
       "    </tr>\n",
       "    <tr>\n",
       "      <th id=\"T_92e43_level0_row36\" class=\"row_heading level0 row36\" >36</th>\n",
       "      <td id=\"T_92e43_row36_col0\" class=\"data row36 col0\" >Remove Perfect Collinearity</td>\n",
       "      <td id=\"T_92e43_row36_col1\" class=\"data row36 col1\" >True</td>\n",
       "    </tr>\n",
       "    <tr>\n",
       "      <th id=\"T_92e43_level0_row37\" class=\"row_heading level0 row37\" >37</th>\n",
       "      <td id=\"T_92e43_row37_col0\" class=\"data row37 col0\" >Clustering</td>\n",
       "      <td id=\"T_92e43_row37_col1\" class=\"data row37 col1\" >False</td>\n",
       "    </tr>\n",
       "    <tr>\n",
       "      <th id=\"T_92e43_level0_row38\" class=\"row_heading level0 row38\" >38</th>\n",
       "      <td id=\"T_92e43_row38_col0\" class=\"data row38 col0\" >Clustering Iteration</td>\n",
       "      <td id=\"T_92e43_row38_col1\" class=\"data row38 col1\" >None</td>\n",
       "    </tr>\n",
       "    <tr>\n",
       "      <th id=\"T_92e43_level0_row39\" class=\"row_heading level0 row39\" >39</th>\n",
       "      <td id=\"T_92e43_row39_col0\" class=\"data row39 col0\" >Polynomial Features</td>\n",
       "      <td id=\"T_92e43_row39_col1\" class=\"data row39 col1\" >False</td>\n",
       "    </tr>\n",
       "    <tr>\n",
       "      <th id=\"T_92e43_level0_row40\" class=\"row_heading level0 row40\" >40</th>\n",
       "      <td id=\"T_92e43_row40_col0\" class=\"data row40 col0\" >Polynomial Degree</td>\n",
       "      <td id=\"T_92e43_row40_col1\" class=\"data row40 col1\" >None</td>\n",
       "    </tr>\n",
       "    <tr>\n",
       "      <th id=\"T_92e43_level0_row41\" class=\"row_heading level0 row41\" >41</th>\n",
       "      <td id=\"T_92e43_row41_col0\" class=\"data row41 col0\" >Trignometry Features</td>\n",
       "      <td id=\"T_92e43_row41_col1\" class=\"data row41 col1\" >False</td>\n",
       "    </tr>\n",
       "    <tr>\n",
       "      <th id=\"T_92e43_level0_row42\" class=\"row_heading level0 row42\" >42</th>\n",
       "      <td id=\"T_92e43_row42_col0\" class=\"data row42 col0\" >Polynomial Threshold</td>\n",
       "      <td id=\"T_92e43_row42_col1\" class=\"data row42 col1\" >None</td>\n",
       "    </tr>\n",
       "    <tr>\n",
       "      <th id=\"T_92e43_level0_row43\" class=\"row_heading level0 row43\" >43</th>\n",
       "      <td id=\"T_92e43_row43_col0\" class=\"data row43 col0\" >Group Features</td>\n",
       "      <td id=\"T_92e43_row43_col1\" class=\"data row43 col1\" >False</td>\n",
       "    </tr>\n",
       "    <tr>\n",
       "      <th id=\"T_92e43_level0_row44\" class=\"row_heading level0 row44\" >44</th>\n",
       "      <td id=\"T_92e43_row44_col0\" class=\"data row44 col0\" >Feature Selection</td>\n",
       "      <td id=\"T_92e43_row44_col1\" class=\"data row44 col1\" >False</td>\n",
       "    </tr>\n",
       "    <tr>\n",
       "      <th id=\"T_92e43_level0_row45\" class=\"row_heading level0 row45\" >45</th>\n",
       "      <td id=\"T_92e43_row45_col0\" class=\"data row45 col0\" >Feature Selection Method</td>\n",
       "      <td id=\"T_92e43_row45_col1\" class=\"data row45 col1\" >classic</td>\n",
       "    </tr>\n",
       "    <tr>\n",
       "      <th id=\"T_92e43_level0_row46\" class=\"row_heading level0 row46\" >46</th>\n",
       "      <td id=\"T_92e43_row46_col0\" class=\"data row46 col0\" >Features Selection Threshold</td>\n",
       "      <td id=\"T_92e43_row46_col1\" class=\"data row46 col1\" >None</td>\n",
       "    </tr>\n",
       "    <tr>\n",
       "      <th id=\"T_92e43_level0_row47\" class=\"row_heading level0 row47\" >47</th>\n",
       "      <td id=\"T_92e43_row47_col0\" class=\"data row47 col0\" >Feature Interaction</td>\n",
       "      <td id=\"T_92e43_row47_col1\" class=\"data row47 col1\" >False</td>\n",
       "    </tr>\n",
       "    <tr>\n",
       "      <th id=\"T_92e43_level0_row48\" class=\"row_heading level0 row48\" >48</th>\n",
       "      <td id=\"T_92e43_row48_col0\" class=\"data row48 col0\" >Feature Ratio</td>\n",
       "      <td id=\"T_92e43_row48_col1\" class=\"data row48 col1\" >False</td>\n",
       "    </tr>\n",
       "    <tr>\n",
       "      <th id=\"T_92e43_level0_row49\" class=\"row_heading level0 row49\" >49</th>\n",
       "      <td id=\"T_92e43_row49_col0\" class=\"data row49 col0\" >Interaction Threshold</td>\n",
       "      <td id=\"T_92e43_row49_col1\" class=\"data row49 col1\" >None</td>\n",
       "    </tr>\n",
       "  </tbody>\n",
       "</table>\n"
      ],
      "text/plain": [
       "<pandas.io.formats.style.Styler at 0x1cebded3d00>"
      ]
     },
     "metadata": {},
     "output_type": "display_data"
    }
   ],
   "source": [
    "from pycaret.anomaly import *\n",
    "s = setup(data = train_df, ignore_features = ['ID'],\n",
    "          session_id = 123,\n",
    "          use_gpu = True,\n",
    "          silent = True,\n",
    "          normalize = True,\n",
    "          normalize_method = 'robust',\n",
    "          multicollinearity_threshold = 0.9,\n",
    "          remove_perfect_collinearity = True\n",
    "          )"
   ]
  },
  {
   "cell_type": "markdown",
   "metadata": {},
   "source": [
    "## Model"
   ]
  },
  {
   "cell_type": "code",
   "execution_count": 10,
   "metadata": {},
   "outputs": [
    {
     "data": {
      "text/html": [
       "<div>\n",
       "<style scoped>\n",
       "    .dataframe tbody tr th:only-of-type {\n",
       "        vertical-align: middle;\n",
       "    }\n",
       "\n",
       "    .dataframe tbody tr th {\n",
       "        vertical-align: top;\n",
       "    }\n",
       "\n",
       "    .dataframe thead th {\n",
       "        text-align: right;\n",
       "    }\n",
       "</style>\n",
       "<table border=\"1\" class=\"dataframe\">\n",
       "  <thead>\n",
       "    <tr style=\"text-align: right;\">\n",
       "      <th></th>\n",
       "      <th>Name</th>\n",
       "      <th>Reference</th>\n",
       "    </tr>\n",
       "    <tr>\n",
       "      <th>ID</th>\n",
       "      <th></th>\n",
       "      <th></th>\n",
       "    </tr>\n",
       "  </thead>\n",
       "  <tbody>\n",
       "    <tr>\n",
       "      <th>abod</th>\n",
       "      <td>Angle-base Outlier Detection</td>\n",
       "      <td>pyod.models.abod.ABOD</td>\n",
       "    </tr>\n",
       "    <tr>\n",
       "      <th>cluster</th>\n",
       "      <td>Clustering-Based Local Outlier</td>\n",
       "      <td>pyod.models.cblof.CBLOF</td>\n",
       "    </tr>\n",
       "    <tr>\n",
       "      <th>cof</th>\n",
       "      <td>Connectivity-Based Local Outlier</td>\n",
       "      <td>pyod.models.cof.COF</td>\n",
       "    </tr>\n",
       "    <tr>\n",
       "      <th>iforest</th>\n",
       "      <td>Isolation Forest</td>\n",
       "      <td>pyod.models.iforest.IForest</td>\n",
       "    </tr>\n",
       "    <tr>\n",
       "      <th>histogram</th>\n",
       "      <td>Histogram-based Outlier Detection</td>\n",
       "      <td>pyod.models.hbos.HBOS</td>\n",
       "    </tr>\n",
       "    <tr>\n",
       "      <th>knn</th>\n",
       "      <td>K-Nearest Neighbors Detector</td>\n",
       "      <td>pyod.models.knn.KNN</td>\n",
       "    </tr>\n",
       "    <tr>\n",
       "      <th>lof</th>\n",
       "      <td>Local Outlier Factor</td>\n",
       "      <td>pyod.models.lof.LOF</td>\n",
       "    </tr>\n",
       "    <tr>\n",
       "      <th>svm</th>\n",
       "      <td>One-class SVM detector</td>\n",
       "      <td>pyod.models.ocsvm.OCSVM</td>\n",
       "    </tr>\n",
       "    <tr>\n",
       "      <th>pca</th>\n",
       "      <td>Principal Component Analysis</td>\n",
       "      <td>pyod.models.pca.PCA</td>\n",
       "    </tr>\n",
       "    <tr>\n",
       "      <th>mcd</th>\n",
       "      <td>Minimum Covariance Determinant</td>\n",
       "      <td>pyod.models.mcd.MCD</td>\n",
       "    </tr>\n",
       "    <tr>\n",
       "      <th>sod</th>\n",
       "      <td>Subspace Outlier Detection</td>\n",
       "      <td>pyod.models.sod.SOD</td>\n",
       "    </tr>\n",
       "    <tr>\n",
       "      <th>sos</th>\n",
       "      <td>Stochastic Outlier Selection</td>\n",
       "      <td>pyod.models.sos.SOS</td>\n",
       "    </tr>\n",
       "  </tbody>\n",
       "</table>\n",
       "</div>"
      ],
      "text/plain": [
       "                                        Name                    Reference\n",
       "ID                                                                       \n",
       "abod            Angle-base Outlier Detection        pyod.models.abod.ABOD\n",
       "cluster       Clustering-Based Local Outlier      pyod.models.cblof.CBLOF\n",
       "cof         Connectivity-Based Local Outlier          pyod.models.cof.COF\n",
       "iforest                     Isolation Forest  pyod.models.iforest.IForest\n",
       "histogram  Histogram-based Outlier Detection        pyod.models.hbos.HBOS\n",
       "knn             K-Nearest Neighbors Detector          pyod.models.knn.KNN\n",
       "lof                     Local Outlier Factor          pyod.models.lof.LOF\n",
       "svm                   One-class SVM detector      pyod.models.ocsvm.OCSVM\n",
       "pca             Principal Component Analysis          pyod.models.pca.PCA\n",
       "mcd           Minimum Covariance Determinant          pyod.models.mcd.MCD\n",
       "sod               Subspace Outlier Detection          pyod.models.sod.SOD\n",
       "sos             Stochastic Outlier Selection          pyod.models.sos.SOS"
      ]
     },
     "execution_count": 10,
     "metadata": {},
     "output_type": "execute_result"
    }
   ],
   "source": [
    "models()"
   ]
  },
  {
   "cell_type": "code",
   "execution_count": 11,
   "metadata": {},
   "outputs": [],
   "source": [
    "# iforest = create_model('iforest', fraction = val_contamination)\n",
    "# iforest"
   ]
  },
  {
   "cell_type": "code",
   "execution_count": 12,
   "metadata": {},
   "outputs": [],
   "source": [
    "# pca = create_model('pca', fraction = val_contamination)\n",
    "# pca"
   ]
  },
  {
   "cell_type": "code",
   "execution_count": 13,
   "metadata": {},
   "outputs": [],
   "source": [
    "# knn = create_model('knn', fraction = val_contamination)\n",
    "# knn"
   ]
  },
  {
   "cell_type": "code",
   "execution_count": 14,
   "metadata": {},
   "outputs": [],
   "source": [
    "#cluster = create_model('cluster', fraction = val_contamination)\n",
    "#cluster"
   ]
  },
  {
   "cell_type": "code",
   "execution_count": 15,
   "metadata": {},
   "outputs": [],
   "source": [
    "# lof = create_model('lof', fraction = val_contamination)\n",
    "# lof"
   ]
  },
  {
   "cell_type": "code",
   "execution_count": 16,
   "metadata": {},
   "outputs": [],
   "source": [
    "# svm = create_model('svm', fraction = val_contamination)\n",
    "# svm"
   ]
  },
  {
   "cell_type": "code",
   "execution_count": 17,
   "metadata": {},
   "outputs": [],
   "source": [
    "# save_model(model = iforest, model_name = 'iforest_model')\n",
    "# save_model(model = pca, model_name = 'pca_model')\n",
    "# save_model(model = knn, model_name = 'knn_model')\n",
    "# save_model(model = cluster, model_name = 'cluster_model')\n",
    "# save_model(model = lof, model_name = 'lof_model')\n",
    "# save_model(model = svm, model_name = 'svm_model')"
   ]
  },
  {
   "cell_type": "markdown",
   "id": "fbad31b4",
   "metadata": {},
   "source": [
    "## Evaluation : Validation set\n"
   ]
  },
  {
   "cell_type": "code",
   "execution_count": 18,
   "id": "60e0dc39",
   "metadata": {},
   "outputs": [
    {
     "name": "stdout",
     "output_type": "stream",
     "text": [
      "Transformation Pipeline and Model Successfully Loaded\n",
      "Validation F1 Score : [0.7179092619561065]\n",
      "              precision    recall  f1-score   support\n",
      "\n",
      "           0       1.00      1.00      1.00     28432\n",
      "           1       0.48      0.40      0.44        30\n",
      "\n",
      "    accuracy                           1.00     28462\n",
      "   macro avg       0.74      0.70      0.72     28462\n",
      "weighted avg       1.00      1.00      1.00     28462\n",
      "\n"
     ]
    }
   ],
   "source": [
    "from sklearn.metrics import f1_score\n",
    "from sklearn.metrics import classification_report\n",
    "\n",
    "loaded_model = load_model('iforest_model')\n",
    "val_x = val_df.drop(columns=['ID', 'Class']) # Input Data\n",
    "val_y = val_df['Class'] # Label\n",
    "\n",
    "val_pred = loaded_model.predict(val_x) # model prediction\n",
    "val_score = f1_score(val_y, val_pred, average='macro')\n",
    "print(f'Validation F1 Score : [{val_score}]')\n",
    "print(classification_report(val_y, val_pred))"
   ]
  },
  {
   "cell_type": "code",
   "execution_count": 19,
   "id": "60e0dc39",
   "metadata": {},
   "outputs": [],
   "source": [
    "# from sklearn.metrics import f1_score\n",
    "# from sklearn.metrics import classification_report\n",
    "\n",
    "# loaded_model = load_model('pca_model')\n",
    "# val_x = val_df.drop(columns=['ID', 'Class']) # Input Data\n",
    "# val_y = val_df['Class'] # Label\n",
    "\n",
    "# val_pred = loaded_model.predict(val_x) # model prediction\n",
    "# val_score = f1_score(val_y, val_pred, average='macro')\n",
    "# print(f'Validation F1 Score : [{val_score}]')\n",
    "# print(classification_report(val_y, val_pred))"
   ]
  },
  {
   "cell_type": "code",
   "execution_count": 20,
   "id": "60e0dc39",
   "metadata": {},
   "outputs": [],
   "source": [
    "# from sklearn.metrics import f1_score\n",
    "# from sklearn.metrics import classification_report\n",
    "\n",
    "# loaded_model = load_model('knn_model')\n",
    "# val_x = val_df.drop(columns=['ID', 'Class']) # Input Data\n",
    "# val_y = val_df['Class'] # Label\n",
    "\n",
    "# val_pred = loaded_model.predict(val_x) # model prediction\n",
    "# val_score = f1_score(val_y, val_pred, average='macro')\n",
    "# print(f'Validation F1 Score : [{val_score}]')\n",
    "# print(classification_report(val_y, val_pred))"
   ]
  },
  {
   "cell_type": "code",
   "execution_count": 21,
   "id": "60e0dc39",
   "metadata": {},
   "outputs": [],
   "source": [
    "# from sklearn.metrics import f1_score\n",
    "# from sklearn.metrics import classification_report\n",
    "\n",
    "# loaded_model = load_model('cluster_model')\n",
    "# val_x = val_df.drop(columns=['ID', 'Class']) # Input Data\n",
    "# val_y = val_df['Class'] # Label\n",
    "\n",
    "# val_pred = loaded_model.predict(val_x) # model prediction\n",
    "# val_score = f1_score(val_y, val_pred, average='macro')\n",
    "# print(f'Validation F1 Score : [{val_score}]')\n",
    "# print(classification_report(val_y, val_pred))"
   ]
  },
  {
   "cell_type": "code",
   "execution_count": 22,
   "id": "60e0dc39",
   "metadata": {},
   "outputs": [],
   "source": [
    "# from sklearn.metrics import f1_score\n",
    "# from sklearn.metrics import classification_report\n",
    "\n",
    "# loaded_model = load_model('lof_model')\n",
    "# val_x = val_df.drop(columns=['ID', 'Class']) # Input Data\n",
    "# val_y = val_df['Class'] # Label\n",
    "\n",
    "# val_pred = loaded_model.predict(val_x) # model prediction\n",
    "# val_score = f1_score(val_y, val_pred, average='macro')\n",
    "# print(f'Validation F1 Score : [{val_score}]')\n",
    "# print(classification_report(val_y, val_pred))"
   ]
  },
  {
   "cell_type": "code",
   "execution_count": 23,
   "metadata": {},
   "outputs": [],
   "source": [
    "# from sklearn.metrics import f1_score\n",
    "# from sklearn.metrics import classification_report\n",
    "\n",
    "# loaded_model = load_model('svm_model')\n",
    "# val_x = val_df.drop(columns=['ID', 'Class']) # Input Data\n",
    "# val_y = val_df['Class'] # Label\n",
    "\n",
    "# val_pred = loaded_model.predict(val_x) # model prediction\n",
    "# val_score = f1_score(val_y, val_pred, average='macro')\n",
    "# print(f'Validation F1 Score : [{val_score}]')\n",
    "# print(classification_report(val_y, val_pred))"
   ]
  },
  {
   "cell_type": "markdown",
   "metadata": {},
   "source": [
    "## Sub"
   ]
  },
  {
   "cell_type": "code",
   "execution_count": 24,
   "metadata": {},
   "outputs": [
    {
     "name": "stdout",
     "output_type": "stream",
     "text": [
      "Transformation Pipeline and Model Successfully Loaded\n"
     ]
    }
   ],
   "source": [
    "loaded_model = load_model('iforest_model')\n",
    "test_x = test_df.drop(columns=['ID']) # Input Data\n",
    "\n",
    "test_pred = loaded_model.predict(test_x) # model prediction\n",
    "submit = pd.read_csv('./data/sample_submission.csv')\n",
    "submit['Class'] = test_pred\n",
    "submit.to_csv('./submit_hwansoo.csv', index=False)"
   ]
  }
 ],
 "metadata": {
  "kernelspec": {
   "display_name": "Python 3.9.6 ('study')",
   "language": "python",
   "name": "python3"
  },
  "language_info": {
   "codemirror_mode": {
    "name": "ipython",
    "version": 3
   },
   "file_extension": ".py",
   "mimetype": "text/x-python",
   "name": "python",
   "nbconvert_exporter": "python",
   "pygments_lexer": "ipython3",
   "version": "3.9.6"
  },
  "orig_nbformat": 4,
  "vscode": {
   "interpreter": {
    "hash": "c530038a4968235b14954dfb7e9ce27eac1d97b010045a73365830ad480ab54b"
   }
  }
 },
 "nbformat": 4,
 "nbformat_minor": 2
}
