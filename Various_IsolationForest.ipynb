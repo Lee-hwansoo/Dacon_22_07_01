{
 "cells": [
  {
   "cell_type": "markdown",
   "metadata": {},
   "source": [
    "# scikit learn, unsupervised anomaly detection"
   ]
  },
  {
   "cell_type": "code",
   "execution_count": 85,
   "metadata": {},
   "outputs": [],
   "source": [
    "import pandas as pd\n",
    "import numpy as np\n",
    "import matplotlib.pyplot as plt"
   ]
  },
  {
   "cell_type": "markdown",
   "metadata": {},
   "source": [
    "## Data Load"
   ]
  },
  {
   "cell_type": "code",
   "execution_count": 86,
   "metadata": {},
   "outputs": [],
   "source": [
    "train_df = pd.read_csv('./data/train.csv')\n",
    "val_df = pd.read_csv('./data/val.csv')\n",
    "test_df = pd.read_csv('./data/test.csv')"
   ]
  },
  {
   "cell_type": "code",
   "execution_count": 87,
   "metadata": {},
   "outputs": [
    {
     "data": {
      "text/html": [
       "<div>\n",
       "<style scoped>\n",
       "    .dataframe tbody tr th:only-of-type {\n",
       "        vertical-align: middle;\n",
       "    }\n",
       "\n",
       "    .dataframe tbody tr th {\n",
       "        vertical-align: top;\n",
       "    }\n",
       "\n",
       "    .dataframe thead th {\n",
       "        text-align: right;\n",
       "    }\n",
       "</style>\n",
       "<table border=\"1\" class=\"dataframe\">\n",
       "  <thead>\n",
       "    <tr style=\"text-align: right;\">\n",
       "      <th></th>\n",
       "      <th>ID</th>\n",
       "      <th>V1</th>\n",
       "      <th>V2</th>\n",
       "      <th>V3</th>\n",
       "      <th>V4</th>\n",
       "      <th>V5</th>\n",
       "      <th>V6</th>\n",
       "      <th>V7</th>\n",
       "      <th>V8</th>\n",
       "      <th>V9</th>\n",
       "      <th>...</th>\n",
       "      <th>V21</th>\n",
       "      <th>V22</th>\n",
       "      <th>V23</th>\n",
       "      <th>V24</th>\n",
       "      <th>V25</th>\n",
       "      <th>V26</th>\n",
       "      <th>V27</th>\n",
       "      <th>V28</th>\n",
       "      <th>V29</th>\n",
       "      <th>V30</th>\n",
       "    </tr>\n",
       "  </thead>\n",
       "  <tbody>\n",
       "    <tr>\n",
       "      <th>0</th>\n",
       "      <td>3</td>\n",
       "      <td>-1.358354</td>\n",
       "      <td>-1.340163</td>\n",
       "      <td>1.773209</td>\n",
       "      <td>0.379780</td>\n",
       "      <td>-0.503198</td>\n",
       "      <td>1.800499</td>\n",
       "      <td>0.791461</td>\n",
       "      <td>0.247676</td>\n",
       "      <td>-1.514654</td>\n",
       "      <td>...</td>\n",
       "      <td>0.247998</td>\n",
       "      <td>0.771679</td>\n",
       "      <td>0.909412</td>\n",
       "      <td>-0.689281</td>\n",
       "      <td>-0.327642</td>\n",
       "      <td>-0.139097</td>\n",
       "      <td>-0.055353</td>\n",
       "      <td>-0.059752</td>\n",
       "      <td>4.983721</td>\n",
       "      <td>-0.994972</td>\n",
       "    </tr>\n",
       "    <tr>\n",
       "      <th>1</th>\n",
       "      <td>4</td>\n",
       "      <td>-0.966272</td>\n",
       "      <td>-0.185226</td>\n",
       "      <td>1.792993</td>\n",
       "      <td>-0.863291</td>\n",
       "      <td>-0.010309</td>\n",
       "      <td>1.247203</td>\n",
       "      <td>0.237609</td>\n",
       "      <td>0.377436</td>\n",
       "      <td>-1.387024</td>\n",
       "      <td>...</td>\n",
       "      <td>-0.108300</td>\n",
       "      <td>0.005274</td>\n",
       "      <td>-0.190321</td>\n",
       "      <td>-1.175575</td>\n",
       "      <td>0.647376</td>\n",
       "      <td>-0.221929</td>\n",
       "      <td>0.062723</td>\n",
       "      <td>0.061458</td>\n",
       "      <td>1.418291</td>\n",
       "      <td>-0.994972</td>\n",
       "    </tr>\n",
       "    <tr>\n",
       "      <th>2</th>\n",
       "      <td>6</td>\n",
       "      <td>-0.425966</td>\n",
       "      <td>0.960523</td>\n",
       "      <td>1.141109</td>\n",
       "      <td>-0.168252</td>\n",
       "      <td>0.420987</td>\n",
       "      <td>-0.029728</td>\n",
       "      <td>0.476201</td>\n",
       "      <td>0.260314</td>\n",
       "      <td>-0.568671</td>\n",
       "      <td>...</td>\n",
       "      <td>-0.208254</td>\n",
       "      <td>-0.559825</td>\n",
       "      <td>-0.026398</td>\n",
       "      <td>-0.371427</td>\n",
       "      <td>-0.232794</td>\n",
       "      <td>0.105915</td>\n",
       "      <td>0.253844</td>\n",
       "      <td>0.081080</td>\n",
       "      <td>-0.256131</td>\n",
       "      <td>-0.994960</td>\n",
       "    </tr>\n",
       "    <tr>\n",
       "      <th>3</th>\n",
       "      <td>8</td>\n",
       "      <td>-0.644269</td>\n",
       "      <td>1.417964</td>\n",
       "      <td>1.074380</td>\n",
       "      <td>-0.492199</td>\n",
       "      <td>0.948934</td>\n",
       "      <td>0.428118</td>\n",
       "      <td>1.120631</td>\n",
       "      <td>-3.807864</td>\n",
       "      <td>0.615375</td>\n",
       "      <td>...</td>\n",
       "      <td>1.943465</td>\n",
       "      <td>-1.015455</td>\n",
       "      <td>0.057504</td>\n",
       "      <td>-0.649709</td>\n",
       "      <td>-0.415267</td>\n",
       "      <td>-0.051634</td>\n",
       "      <td>-1.206921</td>\n",
       "      <td>-1.085339</td>\n",
       "      <td>0.262698</td>\n",
       "      <td>-0.994901</td>\n",
       "    </tr>\n",
       "    <tr>\n",
       "      <th>4</th>\n",
       "      <td>9</td>\n",
       "      <td>-0.894286</td>\n",
       "      <td>0.286157</td>\n",
       "      <td>-0.113192</td>\n",
       "      <td>-0.271526</td>\n",
       "      <td>2.669599</td>\n",
       "      <td>3.721818</td>\n",
       "      <td>0.370145</td>\n",
       "      <td>0.851084</td>\n",
       "      <td>-0.392048</td>\n",
       "      <td>...</td>\n",
       "      <td>-0.073425</td>\n",
       "      <td>-0.268092</td>\n",
       "      <td>-0.204233</td>\n",
       "      <td>1.011592</td>\n",
       "      <td>0.373205</td>\n",
       "      <td>-0.384157</td>\n",
       "      <td>0.011747</td>\n",
       "      <td>0.142404</td>\n",
       "      <td>0.994900</td>\n",
       "      <td>-0.994901</td>\n",
       "    </tr>\n",
       "  </tbody>\n",
       "</table>\n",
       "<p>5 rows × 31 columns</p>\n",
       "</div>"
      ],
      "text/plain": [
       "   ID        V1        V2        V3        V4        V5        V6        V7  \\\n",
       "0   3 -1.358354 -1.340163  1.773209  0.379780 -0.503198  1.800499  0.791461   \n",
       "1   4 -0.966272 -0.185226  1.792993 -0.863291 -0.010309  1.247203  0.237609   \n",
       "2   6 -0.425966  0.960523  1.141109 -0.168252  0.420987 -0.029728  0.476201   \n",
       "3   8 -0.644269  1.417964  1.074380 -0.492199  0.948934  0.428118  1.120631   \n",
       "4   9 -0.894286  0.286157 -0.113192 -0.271526  2.669599  3.721818  0.370145   \n",
       "\n",
       "         V8        V9  ...       V21       V22       V23       V24       V25  \\\n",
       "0  0.247676 -1.514654  ...  0.247998  0.771679  0.909412 -0.689281 -0.327642   \n",
       "1  0.377436 -1.387024  ... -0.108300  0.005274 -0.190321 -1.175575  0.647376   \n",
       "2  0.260314 -0.568671  ... -0.208254 -0.559825 -0.026398 -0.371427 -0.232794   \n",
       "3 -3.807864  0.615375  ...  1.943465 -1.015455  0.057504 -0.649709 -0.415267   \n",
       "4  0.851084 -0.392048  ... -0.073425 -0.268092 -0.204233  1.011592  0.373205   \n",
       "\n",
       "        V26       V27       V28       V29       V30  \n",
       "0 -0.139097 -0.055353 -0.059752  4.983721 -0.994972  \n",
       "1 -0.221929  0.062723  0.061458  1.418291 -0.994972  \n",
       "2  0.105915  0.253844  0.081080 -0.256131 -0.994960  \n",
       "3 -0.051634 -1.206921 -1.085339  0.262698 -0.994901  \n",
       "4 -0.384157  0.011747  0.142404  0.994900 -0.994901  \n",
       "\n",
       "[5 rows x 31 columns]"
      ]
     },
     "execution_count": 87,
     "metadata": {},
     "output_type": "execute_result"
    }
   ],
   "source": [
    "train_df.head()"
   ]
  },
  {
   "cell_type": "code",
   "execution_count": 88,
   "metadata": {},
   "outputs": [
    {
     "data": {
      "text/html": [
       "<div>\n",
       "<style scoped>\n",
       "    .dataframe tbody tr th:only-of-type {\n",
       "        vertical-align: middle;\n",
       "    }\n",
       "\n",
       "    .dataframe tbody tr th {\n",
       "        vertical-align: top;\n",
       "    }\n",
       "\n",
       "    .dataframe thead th {\n",
       "        text-align: right;\n",
       "    }\n",
       "</style>\n",
       "<table border=\"1\" class=\"dataframe\">\n",
       "  <thead>\n",
       "    <tr style=\"text-align: right;\">\n",
       "      <th></th>\n",
       "      <th>ID</th>\n",
       "      <th>V1</th>\n",
       "      <th>V2</th>\n",
       "      <th>V3</th>\n",
       "      <th>V4</th>\n",
       "      <th>V5</th>\n",
       "      <th>V6</th>\n",
       "      <th>V7</th>\n",
       "      <th>V8</th>\n",
       "      <th>V9</th>\n",
       "      <th>...</th>\n",
       "      <th>V22</th>\n",
       "      <th>V23</th>\n",
       "      <th>V24</th>\n",
       "      <th>V25</th>\n",
       "      <th>V26</th>\n",
       "      <th>V27</th>\n",
       "      <th>V28</th>\n",
       "      <th>V29</th>\n",
       "      <th>V30</th>\n",
       "      <th>Class</th>\n",
       "    </tr>\n",
       "  </thead>\n",
       "  <tbody>\n",
       "    <tr>\n",
       "      <th>0</th>\n",
       "      <td>10</td>\n",
       "      <td>-0.338262</td>\n",
       "      <td>1.119593</td>\n",
       "      <td>1.044367</td>\n",
       "      <td>-0.222187</td>\n",
       "      <td>0.499361</td>\n",
       "      <td>-0.246761</td>\n",
       "      <td>0.651583</td>\n",
       "      <td>0.069539</td>\n",
       "      <td>-0.736727</td>\n",
       "      <td>...</td>\n",
       "      <td>-0.633753</td>\n",
       "      <td>-0.120794</td>\n",
       "      <td>-0.385050</td>\n",
       "      <td>-0.069733</td>\n",
       "      <td>0.094199</td>\n",
       "      <td>0.246219</td>\n",
       "      <td>0.083076</td>\n",
       "      <td>-0.255991</td>\n",
       "      <td>-0.994878</td>\n",
       "      <td>0</td>\n",
       "    </tr>\n",
       "    <tr>\n",
       "      <th>1</th>\n",
       "      <td>22</td>\n",
       "      <td>0.962496</td>\n",
       "      <td>0.328461</td>\n",
       "      <td>-0.171479</td>\n",
       "      <td>2.109204</td>\n",
       "      <td>1.129566</td>\n",
       "      <td>1.696038</td>\n",
       "      <td>0.107712</td>\n",
       "      <td>0.521502</td>\n",
       "      <td>-1.191311</td>\n",
       "      <td>...</td>\n",
       "      <td>0.402492</td>\n",
       "      <td>-0.048508</td>\n",
       "      <td>-1.371866</td>\n",
       "      <td>0.390814</td>\n",
       "      <td>0.199964</td>\n",
       "      <td>0.016371</td>\n",
       "      <td>-0.014605</td>\n",
       "      <td>0.168937</td>\n",
       "      <td>-0.994784</td>\n",
       "      <td>0</td>\n",
       "    </tr>\n",
       "    <tr>\n",
       "      <th>2</th>\n",
       "      <td>63</td>\n",
       "      <td>1.145524</td>\n",
       "      <td>0.575068</td>\n",
       "      <td>0.194008</td>\n",
       "      <td>2.598192</td>\n",
       "      <td>-0.092210</td>\n",
       "      <td>-1.044430</td>\n",
       "      <td>0.531588</td>\n",
       "      <td>-0.241888</td>\n",
       "      <td>-0.896287</td>\n",
       "      <td>...</td>\n",
       "      <td>-0.119703</td>\n",
       "      <td>-0.076510</td>\n",
       "      <td>0.691320</td>\n",
       "      <td>0.633984</td>\n",
       "      <td>0.048741</td>\n",
       "      <td>-0.053192</td>\n",
       "      <td>0.016251</td>\n",
       "      <td>0.169496</td>\n",
       "      <td>-0.994502</td>\n",
       "      <td>0</td>\n",
       "    </tr>\n",
       "    <tr>\n",
       "      <th>3</th>\n",
       "      <td>69</td>\n",
       "      <td>0.927060</td>\n",
       "      <td>-0.323684</td>\n",
       "      <td>0.387585</td>\n",
       "      <td>0.544474</td>\n",
       "      <td>0.246787</td>\n",
       "      <td>1.650358</td>\n",
       "      <td>-0.427576</td>\n",
       "      <td>0.615371</td>\n",
       "      <td>0.226278</td>\n",
       "      <td>...</td>\n",
       "      <td>0.079359</td>\n",
       "      <td>0.096632</td>\n",
       "      <td>-0.992569</td>\n",
       "      <td>0.085096</td>\n",
       "      <td>0.377447</td>\n",
       "      <td>0.036096</td>\n",
       "      <td>-0.005960</td>\n",
       "      <td>0.331307</td>\n",
       "      <td>-0.994467</td>\n",
       "      <td>0</td>\n",
       "    </tr>\n",
       "    <tr>\n",
       "      <th>4</th>\n",
       "      <td>83</td>\n",
       "      <td>-3.005237</td>\n",
       "      <td>2.600138</td>\n",
       "      <td>1.483691</td>\n",
       "      <td>-2.418473</td>\n",
       "      <td>0.306326</td>\n",
       "      <td>-0.824575</td>\n",
       "      <td>2.065426</td>\n",
       "      <td>-1.829347</td>\n",
       "      <td>4.009259</td>\n",
       "      <td>...</td>\n",
       "      <td>-0.181268</td>\n",
       "      <td>-0.163747</td>\n",
       "      <td>0.515821</td>\n",
       "      <td>0.136318</td>\n",
       "      <td>0.460054</td>\n",
       "      <td>-0.251259</td>\n",
       "      <td>-1.105751</td>\n",
       "      <td>-0.287012</td>\n",
       "      <td>-0.994373</td>\n",
       "      <td>0</td>\n",
       "    </tr>\n",
       "  </tbody>\n",
       "</table>\n",
       "<p>5 rows × 32 columns</p>\n",
       "</div>"
      ],
      "text/plain": [
       "   ID        V1        V2        V3        V4        V5        V6        V7  \\\n",
       "0  10 -0.338262  1.119593  1.044367 -0.222187  0.499361 -0.246761  0.651583   \n",
       "1  22  0.962496  0.328461 -0.171479  2.109204  1.129566  1.696038  0.107712   \n",
       "2  63  1.145524  0.575068  0.194008  2.598192 -0.092210 -1.044430  0.531588   \n",
       "3  69  0.927060 -0.323684  0.387585  0.544474  0.246787  1.650358 -0.427576   \n",
       "4  83 -3.005237  2.600138  1.483691 -2.418473  0.306326 -0.824575  2.065426   \n",
       "\n",
       "         V8        V9  ...       V22       V23       V24       V25       V26  \\\n",
       "0  0.069539 -0.736727  ... -0.633753 -0.120794 -0.385050 -0.069733  0.094199   \n",
       "1  0.521502 -1.191311  ...  0.402492 -0.048508 -1.371866  0.390814  0.199964   \n",
       "2 -0.241888 -0.896287  ... -0.119703 -0.076510  0.691320  0.633984  0.048741   \n",
       "3  0.615371  0.226278  ...  0.079359  0.096632 -0.992569  0.085096  0.377447   \n",
       "4 -1.829347  4.009259  ... -0.181268 -0.163747  0.515821  0.136318  0.460054   \n",
       "\n",
       "        V27       V28       V29       V30  Class  \n",
       "0  0.246219  0.083076 -0.255991 -0.994878      0  \n",
       "1  0.016371 -0.014605  0.168937 -0.994784      0  \n",
       "2 -0.053192  0.016251  0.169496 -0.994502      0  \n",
       "3  0.036096 -0.005960  0.331307 -0.994467      0  \n",
       "4 -0.251259 -1.105751 -0.287012 -0.994373      0  \n",
       "\n",
       "[5 rows x 32 columns]"
      ]
     },
     "execution_count": 88,
     "metadata": {},
     "output_type": "execute_result"
    }
   ],
   "source": [
    "val_df.head()"
   ]
  },
  {
   "cell_type": "markdown",
   "metadata": {},
   "source": [
    "### Train/Validation Feature 분포 확인"
   ]
  },
  {
   "cell_type": "code",
   "execution_count": 89,
   "metadata": {},
   "outputs": [],
   "source": [
    "# train_df.drop(columns=['ID']).hist(bins = 50, figsize = (20,20))\n",
    "# plt.show()"
   ]
  },
  {
   "cell_type": "code",
   "execution_count": 90,
   "metadata": {},
   "outputs": [],
   "source": [
    "# val_df.drop(columns=['ID', 'Class']).hist(bins = 50, figsize = (20,20))\n",
    "# plt.show()"
   ]
  },
  {
   "cell_type": "markdown",
   "metadata": {},
   "source": [
    "### Feature normalize, RobustScaler"
   ]
  },
  {
   "cell_type": "code",
   "execution_count": 91,
   "metadata": {},
   "outputs": [],
   "source": [
    "from sklearn.preprocessing import RobustScaler\n",
    "\n",
    "normalize_train_df = train_df.drop(columns=['ID'])\n",
    "\n",
    "transformer = RobustScaler()\n",
    "transformer.fit(normalize_train_df)\n",
    "normalize_train_df = transformer.transform(normalize_train_df)\n",
    "\n",
    "normalize_train_df = pd.DataFrame(normalize_train_df,columns=['V1','V2','V3','V4','V5','V6','V7','V8','V9','V10','V11','V12','V13','V14','V15','V16','V17','V18','V19','V20','V21','V22','V23','V24','V25','V26','V27','V28','V29','V30'])\n",
    "# normalize_train_df.hist(bins = 50, figsize = (20,20))\n",
    "# plt.show()"
   ]
  },
  {
   "cell_type": "code",
   "execution_count": 92,
   "metadata": {},
   "outputs": [
    {
     "data": {
      "image/png": "[encoded data removed]",
      "text/plain": [
       "<Figure size 1440x1440 with 30 Axes>"
      ]
     },
     "metadata": {
      "needs_background": "light"
     },
     "output_type": "display_data"
    }
   ],
   "source": [
    "normalize_val_df = val_df.drop(columns=['ID','Class'])\n",
    "\n",
    "transformer = RobustScaler()\n",
    "transformer.fit(normalize_val_df)\n",
    "normalize_val_df = transformer.transform(normalize_val_df)\n",
    "\n",
    "normalize_val_df = pd.DataFrame(normalize_val_df,columns=['V1','V2','V3','V4','V5','V6','V7','V8','V9','V10','V11','V12','V13','V14','V15','V16','V17','V18','V19','V20','V21','V22','V23','V24','V25','V26','V27','V28','V29','V30'])\n",
    "normalize_val_df.hist(bins = 50, figsize = (20,20))\n",
    "plt.show()"
   ]
  },
  {
   "cell_type": "markdown",
   "metadata": {},
   "source": [
    "## 사기 거래 비율"
   ]
  },
  {
   "cell_type": "code",
   "execution_count": 93,
   "metadata": {},
   "outputs": [
    {
     "name": "stdout",
     "output_type": "stream",
     "text": [
      "Validation contamination : [0.0010551491277433877]\n"
     ]
    }
   ],
   "source": [
    "val_normal, val_fraud = val_df['Class'].value_counts()\n",
    "val_contamination = val_fraud / val_normal\n",
    "print(f'Validation contamination : [{val_contamination}]')"
   ]
  },
  {
   "cell_type": "code",
   "execution_count": 94,
   "metadata": {},
   "outputs": [],
   "source": [
    "# 사기 거래 비율이 val_df보다 클때\n",
    "contamination_large = 0.00073\n",
    "# 사기 거래 비율이 vad_df보다 작을때\n",
    "contamination_small = 0.00068"
   ]
  },
  {
   "cell_type": "markdown",
   "metadata": {},
   "source": [
    "## IsolationForest"
   ]
  },
  {
   "cell_type": "code",
   "execution_count": 95,
   "metadata": {},
   "outputs": [],
   "source": [
    "from sklearn.ensemble import IsolationForest\n",
    "from sklearn.metrics import f1_score\n",
    "from sklearn.metrics import classification_report"
   ]
  },
  {
   "cell_type": "code",
   "execution_count": 96,
   "metadata": {},
   "outputs": [
    {
     "data": {
      "text/plain": [
       "IsolationForest(contamination=0.0010551491277433877, max_samples=113842,\n",
       "                n_estimators=125, random_state=42)"
      ]
     },
     "execution_count": 96,
     "metadata": {},
     "output_type": "execute_result"
    }
   ],
   "source": [
    "model_normal = IsolationForest(n_estimators=125, max_samples=len(normalize_train_df), contamination=val_contamination, random_state=42, verbose=0)\n",
    "model_normal.fit(normalize_train_df)"
   ]
  },
  {
   "cell_type": "code",
   "execution_count": 97,
   "metadata": {},
   "outputs": [
    {
     "data": {
      "text/plain": [
       "IsolationForest(contamination=0.00073, max_samples=113842, n_estimators=125,\n",
       "                random_state=42)"
      ]
     },
     "execution_count": 97,
     "metadata": {},
     "output_type": "execute_result"
    }
   ],
   "source": [
    "model_normal_large = IsolationForest(n_estimators=125, max_samples=len(normalize_train_df), contamination=contamination_large, random_state=42, verbose=0)\n",
    "model_normal_large.fit(normalize_train_df)"
   ]
  },
  {
   "cell_type": "code",
   "execution_count": 98,
   "metadata": {},
   "outputs": [
    {
     "data": {
      "text/plain": [
       "IsolationForest(contamination=0.00068, max_samples=113842, n_estimators=125,\n",
       "                random_state=42)"
      ]
     },
     "execution_count": 98,
     "metadata": {},
     "output_type": "execute_result"
    }
   ],
   "source": [
    "model_normal_small = IsolationForest(n_estimators=125, max_samples=len(normalize_train_df), contamination=contamination_small, random_state=42, verbose=0)\n",
    "model_normal_small.fit(normalize_train_df)"
   ]
  },
  {
   "cell_type": "markdown",
   "metadata": {},
   "source": [
    "### Evaluation"
   ]
  },
  {
   "cell_type": "code",
   "execution_count": 99,
   "metadata": {},
   "outputs": [],
   "source": [
    "def get_pred_label(model_pred):\n",
    "    # IsolationForest 모델 출력 (1:정상, -1:불량(사기)) 이므로 (0:정상, 1:불량(사기))로 Label 변환\n",
    "    model_pred = np.where(model_pred == 1, 0, model_pred)\n",
    "    model_pred = np.where(model_pred == -1, 1, model_pred)\n",
    "    return model_pred"
   ]
  },
  {
   "cell_type": "code",
   "execution_count": 100,
   "metadata": {},
   "outputs": [
    {
     "name": "stdout",
     "output_type": "stream",
     "text": [
      "Validation F1 Score : [0.7238565678297559]\n",
      "              precision    recall  f1-score   support\n",
      "\n",
      "           0       1.00      1.00      1.00     28432\n",
      "           1       0.46      0.43      0.45        30\n",
      "\n",
      "    accuracy                           1.00     28462\n",
      "   macro avg       0.73      0.72      0.72     28462\n",
      "weighted avg       1.00      1.00      1.00     28462\n",
      "\n"
     ]
    }
   ],
   "source": [
    "val_x = val_df.drop(columns=['ID', 'Class']) # Input Data\n",
    "val_y = val_df['Class'] # Label\n",
    "\n",
    "val_pred = model_normal_large.predict(val_x) # model prediction\n",
    "val_pred = get_pred_label(val_pred)\n",
    "val_score = f1_score(val_y, val_pred, average='macro')\n",
    "print(f'Validation F1 Score : [{val_score}]')\n",
    "print(classification_report(val_y, val_pred))"
   ]
  },
  {
   "cell_type": "code",
   "execution_count": 101,
   "metadata": {},
   "outputs": [
    {
     "name": "stdout",
     "output_type": "stream",
     "text": [
      "Validation F1 Score : [0.7102361650869573]\n",
      "              precision    recall  f1-score   support\n",
      "\n",
      "           0       1.00      1.00      1.00     28432\n",
      "           1       0.44      0.40      0.42        30\n",
      "\n",
      "    accuracy                           1.00     28462\n",
      "   macro avg       0.72      0.70      0.71     28462\n",
      "weighted avg       1.00      1.00      1.00     28462\n",
      "\n"
     ]
    }
   ],
   "source": [
    "val_x = val_df.drop(columns=['ID', 'Class']) # Input Data\n",
    "val_y = val_df['Class'] # Label\n",
    "\n",
    "val_pred = model_normal_small.predict(val_x) # model prediction\n",
    "val_pred = get_pred_label(val_pred)\n",
    "val_score = f1_score(val_y, val_pred, average='macro')\n",
    "print(f'Validation F1 Score : [{val_score}]')\n",
    "print(classification_report(val_y, val_pred))"
   ]
  },
  {
   "cell_type": "code",
   "execution_count": 102,
   "metadata": {},
   "outputs": [
    {
     "name": "stdout",
     "output_type": "stream",
     "text": [
      "Validation F1 Score : [0.7109070265966368]\n",
      "              precision    recall  f1-score   support\n",
      "\n",
      "           0       1.00      1.00      1.00     28432\n",
      "           1       0.37      0.50      0.42        30\n",
      "\n",
      "    accuracy                           1.00     28462\n",
      "   macro avg       0.68      0.75      0.71     28462\n",
      "weighted avg       1.00      1.00      1.00     28462\n",
      "\n"
     ]
    }
   ],
   "source": [
    "val_x = val_df.drop(columns=['ID', 'Class']) # Input Data\n",
    "val_y = val_df['Class'] # Label\n",
    "\n",
    "val_pred = model_normal.predict(val_x) # model prediction\n",
    "val_pred = get_pred_label(val_pred)\n",
    "val_score = f1_score(val_y, val_pred, average='macro')\n",
    "print(f'Validation F1 Score : [{val_score}]')\n",
    "print(classification_report(val_y, val_pred))"
   ]
  },
  {
   "cell_type": "code",
   "execution_count": 103,
   "metadata": {},
   "outputs": [
    {
     "name": "stdout",
     "output_type": "stream",
     "text": [
      "Validation F1 Score : [0.7072746231706779]\n",
      "              precision    recall  f1-score   support\n",
      "\n",
      "           0       1.00      1.00      1.00     28432\n",
      "           1       0.48      0.37      0.42        30\n",
      "\n",
      "    accuracy                           1.00     28462\n",
      "   macro avg       0.74      0.68      0.71     28462\n",
      "weighted avg       1.00      1.00      1.00     28462\n",
      "\n"
     ]
    }
   ],
   "source": [
    "val_x = normalize_val_df # Input Data\n",
    "val_y = val_df['Class'] # Label\n",
    "\n",
    "val_pred = model_normal_large.predict(val_x) # model prediction\n",
    "val_pred = get_pred_label(val_pred)\n",
    "val_score = f1_score(val_y, val_pred, average='macro')\n",
    "print(f'Validation F1 Score : [{val_score}]')\n",
    "print(classification_report(val_y, val_pred))"
   ]
  },
  {
   "cell_type": "code",
   "execution_count": 104,
   "metadata": {},
   "outputs": [
    {
     "name": "stdout",
     "output_type": "stream",
     "text": [
      "Validation F1 Score : [0.7112747113626281]\n",
      "              precision    recall  f1-score   support\n",
      "\n",
      "           0       1.00      1.00      1.00     28432\n",
      "           1       0.50      0.37      0.42        30\n",
      "\n",
      "    accuracy                           1.00     28462\n",
      "   macro avg       0.75      0.68      0.71     28462\n",
      "weighted avg       1.00      1.00      1.00     28462\n",
      "\n"
     ]
    }
   ],
   "source": [
    "val_x = normalize_val_df # Input Data\n",
    "val_y = val_df['Class'] # Label\n",
    "\n",
    "val_pred = model_normal_small.predict(val_x) # model prediction\n",
    "val_pred = get_pred_label(val_pred)\n",
    "val_score = f1_score(val_y, val_pred, average='macro')\n",
    "print(f'Validation F1 Score : [{val_score}]')\n",
    "print(classification_report(val_y, val_pred))"
   ]
  },
  {
   "cell_type": "code",
   "execution_count": 105,
   "metadata": {},
   "outputs": [
    {
     "name": "stdout",
     "output_type": "stream",
     "text": [
      "Validation F1 Score : [0.7060238515365931]\n",
      "              precision    recall  f1-score   support\n",
      "\n",
      "           0       1.00      1.00      1.00     28432\n",
      "           1       0.39      0.43      0.41        30\n",
      "\n",
      "    accuracy                           1.00     28462\n",
      "   macro avg       0.70      0.72      0.71     28462\n",
      "weighted avg       1.00      1.00      1.00     28462\n",
      "\n"
     ]
    }
   ],
   "source": [
    "val_x = normalize_val_df # Input Data\n",
    "val_y = val_df['Class'] # Label\n",
    "\n",
    "val_pred = model_normal.predict(val_x) # model prediction\n",
    "val_pred = get_pred_label(val_pred)\n",
    "val_score = f1_score(val_y, val_pred, average='macro')\n",
    "print(f'Validation F1 Score : [{val_score}]')\n",
    "print(classification_report(val_y, val_pred))"
   ]
  },
  {
   "cell_type": "markdown",
   "metadata": {},
   "source": [
    "# Sub"
   ]
  },
  {
   "cell_type": "code",
   "execution_count": 106,
   "metadata": {},
   "outputs": [],
   "source": [
    "test_contamination = 0.007\n",
    "model_test = IsolationForest(n_estimators=125, max_samples=len(normalize_train_df), contamination=test_contamination, random_state=42, verbose=0)\n",
    "model_test.fit(normalize_train_df)\n",
    "\n",
    "test_x = test_df.drop(columns=['ID'])\n",
    "test_pred = model_test.predict(test_x)\n",
    "test_pred = get_pred_label(test_pred)\n",
    "submit = pd.read_csv('./data/sample_submission.csv')\n",
    "submit['Class'] = test_pred\n",
    "submit.to_csv('./submit.csv', index=False)"
   ]
  }
 ],
 "metadata": {
  "kernelspec": {
   "display_name": "Python 3.9.6 ('study')",
   "language": "python",
   "name": "python3"
  },
  "language_info": {
   "codemirror_mode": {
    "name": "ipython",
    "version": 3
   },
   "file_extension": ".py",
   "mimetype": "text/x-python",
   "name": "python",
   "nbconvert_exporter": "python",
   "pygments_lexer": "ipython3",
   "version": "3.9.6"
  },
  "orig_nbformat": 4,
  "vscode": {
   "interpreter": {
    "hash": "c530038a4968235b14954dfb7e9ce27eac1d97b010045a73365830ad480ab54b"
   }
  }
 },
 "nbformat": 4,
 "nbformat_minor": 2
}
